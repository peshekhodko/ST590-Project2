{
 "cells": [
  {
   "cell_type": "markdown",
   "id": "c400b97a-5709-4d1e-a7d8-1f406d115beb",
   "metadata": {},
   "source": [
    "# ST 590-651 Project 2 Part 3: NFL Game Scores Data Analysis\n",
    "\n",
    "*Performed by Group G: Raiden Han, Jingjing Li, Nataliya Peshekhodko*\n",
    "\n",
    "*06/27/2022*"
   ]
  },
  {
   "cell_type": "markdown",
   "id": "bd6e8d8d-d751-4a17-be54-753a5ac32bf5",
   "metadata": {},
   "source": [
    "## Introduction and Module Preparation"
   ]
  },
  {
   "cell_type": "markdown",
   "id": "031af446-b2e2-4cc2-b374-2786c98755cc",
   "metadata": {},
   "source": [
    "In this section, we will analyze the [National Football League(NFL) game data](https://www4.stat.ncsu.edu/~online/datasets/scoresFull.csv) from the NCSU online data file, using `PySpark` for data processing and `Pandas` and `Matplotlib` for visualization.\n",
    "\n",
    "To begin with, since this notebook will be running on Windows and is affected by the virtual environment configuration, we need to set up temporary environment variables to ensure the smooth operation of `PySpark`."
   ]
  },
  {
   "cell_type": "code",
   "execution_count": 1,
   "id": "e2736e41-a861-4963-82be-ad1e1813f32e",
   "metadata": {},
   "outputs": [],
   "source": [
    "# Prepare the environment for Windows operation systems\n",
    "import os\n",
    "import sys\n",
    "os.environ['PYSPARK_PYTHON'] = sys.executable\n",
    "os.environ['PYSPARK_DRIVER_PYTHON'] = sys.executable"
   ]
  },
  {
   "cell_type": "markdown",
   "id": "7405ed50-1b26-4b99-948b-c094b90fa3b6",
   "metadata": {},
   "source": [
    "Next, we need to load the required modules and functions and do some basic configuration.\n",
    "\n",
    "The new Spark session is set to use four CPU cores for parallel computation. In addition, we will change the default index type and the arrow to speed up the operation."
   ]
  },
  {
   "cell_type": "code",
   "execution_count": 2,
   "id": "381a7b6f-60df-41a0-9ef2-566007a873ec",
   "metadata": {},
   "outputs": [],
   "source": [
    "# Import the modules\n",
    "import pandas as pd\n",
    "import matplotlib.pyplot as plt\n",
    "import pyspark.pandas as ps\n",
    "from pyspark.sql import SparkSession\n",
    "from pyspark import SparkFiles\n",
    "\n",
    "# Create a new Spark session\n",
    "spark = SparkSession.builder.master(\n",
    "    \"local[4]\").appName(\"my_app\").getOrCreate()\n",
    "\n",
    "# Configurate the Spark session\n",
    "ps.set_option(\"compute.default_index_type\", \"distributed\")\n",
    "spark.conf.set(\"spark.sql.execution.arrow.pyspark.enabled\", True)"
   ]
  },
  {
   "cell_type": "markdown",
   "id": "336e2d0f-391e-4527-9b76-df73de790cb2",
   "metadata": {},
   "source": [
    "## Data Analysis in `PySpark`"
   ]
  },
  {
   "cell_type": "markdown",
   "id": "a3a83fdf-f790-4c8e-9e2c-8b605a75aa5a",
   "metadata": {},
   "source": [
    "First, we will read the remote .csv file via URL as a Spark SQL DataFrame."
   ]
  },
  {
   "cell_type": "code",
   "execution_count": 3,
   "id": "7c882ed5-ffc1-4482-bee0-7902ba2c3eb1",
   "metadata": {},
   "outputs": [],
   "source": [
    "# Read the .csv file from the url\n",
    "url = 'https://www4.stat.ncsu.edu/~online/datasets/scoresFull.csv'\n",
    "spark.sparkContext.addFile(url)\n",
    "df = spark.read.csv(SparkFiles.get(\"scoresFull.csv\"), header=True)"
   ]
  },
  {
   "cell_type": "markdown",
   "id": "b6bb560d-d47a-4075-b6cd-b628b3926074",
   "metadata": {},
   "source": [
    "We will define two lists containing the numeric variables we are interested in for subsequent use."
   ]
  },
  {
   "cell_type": "code",
   "execution_count": 4,
   "id": "35f24764-b24a-4655-bb2e-1fc06c399e6b",
   "metadata": {
    "tags": []
   },
   "outputs": [],
   "source": [
    "# Identify numerical variables\n",
    "num_vars = ['AQ1', 'AQ2', 'AQ3', 'AQ4', 'AFinal',\n",
    "            'HQ1', 'HQ2', 'HQ3', 'HQ4', 'HFinal']\n",
    "quarter_vars = ['AQ1', 'AQ2', 'AQ3', 'AQ4', 'HQ1', 'HQ2', 'HQ3', 'HQ4']"
   ]
  },
  {
   "cell_type": "markdown",
   "id": "f6695747-54b6-46f0-b90a-24a0eaeffcf8",
   "metadata": {},
   "source": [
    "We will use the built-in methods of Spark SQL DataFrame to calculate the mean and standard deviation of all ten numeric variables above. Due to PySpark's optimization algorithm, we do not need to build our MapReduce model."
   ]
  },
  {
   "cell_type": "code",
   "execution_count": 5,
   "id": "3336bd17-efc7-4346-ae45-2a8a2b8cc983",
   "metadata": {},
   "outputs": [
    {
     "name": "stdout",
     "output_type": "stream",
     "text": [
      "+-----------------+----------------+-----------------+-----------------+-----------------+-----------------+------------------+-----------------+-----------------+-----------------+\n",
      "|      avg(AFinal)|        avg(AQ3)|         avg(HQ2)|      avg(HFinal)|         avg(AQ4)|         avg(HQ1)|          avg(AQ1)|         avg(HQ3)|         avg(HQ4)|         avg(AQ2)|\n",
      "+-----------------+----------------+-----------------+-----------------+-----------------+-----------------+------------------+-----------------+-----------------+-----------------+\n",
      "|20.55718813022184|4.38692019590896|7.105157015269374|23.17401325266494|5.890233362143475|4.828867761452031|3.9248055315471047|4.791126476519735|6.322961682512244|6.241428983002017|\n",
      "+-----------------+----------------+-----------------+-----------------+-----------------+-----------------+------------------+-----------------+-----------------+-----------------+\n",
      "\n"
     ]
    }
   ],
   "source": [
    "# Calculate the mean\n",
    "avg = df.agg({var: 'avg' for var in num_vars})\n",
    "avg.show()"
   ]
  },
  {
   "cell_type": "code",
   "execution_count": 6,
   "id": "94c6d2b2-7b22-4df9-8575-ee187081b6b7",
   "metadata": {},
   "outputs": [
    {
     "name": "stdout",
     "output_type": "stream",
     "text": [
      "+------------------+-----------------+------------------+------------------+-----------------+-----------------+-----------------+-----------------+-----------------+------------------+\n",
      "|    stddev(AFinal)|      stddev(AQ3)|       stddev(HQ2)|    stddev(HFinal)|      stddev(AQ4)|      stddev(HQ1)|      stddev(AQ1)|      stddev(HQ3)|      stddev(HQ4)|       stddev(AQ2)|\n",
      "+------------------+-----------------+------------------+------------------+-----------------+-----------------+-----------------+-----------------+-----------------+------------------+\n",
      "|10.195585841440776|4.632716825002489|5.7027880761372725|10.405951744024184|5.278775371882617|4.726903424009668|4.490700421089049|4.755144845943295|5.417310283450343|5.2215934529573085|\n",
      "+------------------+-----------------+------------------+------------------+-----------------+-----------------+-----------------+-----------------+-----------------+------------------+\n",
      "\n"
     ]
    }
   ],
   "source": [
    "# Calculate the standard deviation\n",
    "std = df.agg({var: 'std' for var in num_vars})\n",
    "std.show()"
   ]
  },
  {
   "cell_type": "markdown",
   "id": "3b9beb84-69ed-4e54-9ae4-f4a8a42bc750",
   "metadata": {},
   "source": [
    "Similarly, we can calculate the above two statistics for data grouped by season."
   ]
  },
  {
   "cell_type": "code",
   "execution_count": 7,
   "id": "5b684633-2fdd-46f2-8d88-b52d3b3c320e",
   "metadata": {},
   "outputs": [
    {
     "name": "stdout",
     "output_type": "stream",
     "text": [
      "+------+------------------+------------------+------------------+------------------+------------------+------------------+------------------+------------------+------------------+------------------+\n",
      "|season|       avg(AFinal)|          avg(AQ3)|          avg(HQ2)|       avg(HFinal)|          avg(AQ4)|          avg(HQ1)|          avg(AQ1)|          avg(HQ3)|          avg(HQ4)|          avg(AQ2)|\n",
      "+------+------------------+------------------+------------------+------------------+------------------+------------------+------------------+------------------+------------------+------------------+\n",
      "|  2012|21.655430711610485|  4.50936329588015|  7.00374531835206|24.119850187265918| 6.235955056179775| 4.928838951310861| 4.468164794007491| 5.217228464419476| 6.823970037453184| 6.273408239700374|\n",
      "|  2014|21.295880149812735| 4.734082397003745| 7.164794007490637|23.973782771535582| 5.876404494382022| 4.913857677902621| 4.284644194756554| 5.397003745318352|6.3745318352059925| 6.322097378277154|\n",
      "|  2013| 21.97752808988764|  5.01123595505618|7.4456928838951315| 24.89138576779026|6.1835205992509366| 5.112359550561798| 4.044943820224719| 5.258426966292135| 6.932584269662922| 6.670411985018727|\n",
      "|  2005|18.786516853932586|4.0299625468164795| 7.426966292134831|22.314606741573034| 5.191011235955056| 4.393258426966292|3.8876404494382024| 4.677902621722846| 5.737827715355805| 5.543071161048689|\n",
      "|  2002|20.640449438202246| 4.449438202247191| 7.411985018726591|  23.0187265917603| 5.928838951310861| 4.307116104868914| 4.037453183520599| 4.715355805243446| 6.426966292134831| 6.022471910112359|\n",
      "|  2009|20.382022471910112| 4.299625468164794| 7.790262172284645|22.779026217228463| 5.943820224719101| 4.737827715355805|3.8689138576779025| 4.228464419475656| 5.887640449438202| 6.202247191011236|\n",
      "|  2006|20.254681647940075| 4.303370786516854|6.0411985018726595|21.258426966292134| 6.063670411985019| 4.606741573033708|3.6292134831460676|4.5655430711610485| 5.932584269662922| 6.179775280898877|\n",
      "|  2004|20.239700374531836| 4.153558052434457| 7.071161048689139|22.906367041198504| 5.797752808988764| 4.943820224719101|3.9138576779026217| 4.250936329588015| 6.561797752808989| 6.265917602996255|\n",
      "|  2011| 20.50936329588015| 4.584269662921348| 7.333333333333333|  23.9812734082397|  5.99625468164794| 5.022471910112359| 3.857677902621723| 5.033707865168539| 6.479400749063671|5.9812734082397006|\n",
      "|  2008| 20.84269662921348| 4.074906367041199| 7.205992509363296|23.183520599250937|6.4232209737827715| 5.179775280898877| 3.801498127340824| 4.595505617977528| 6.044943820224719|  6.49812734082397|\n",
      "|  2007|20.228464419475657| 4.337078651685394| 7.074906367041199| 23.15730337078652| 5.872659176029963|  5.02621722846442| 3.696629213483146| 4.913857677902621|6.0187265917602994|6.2209737827715355|\n",
      "|  2010|21.318352059925093| 4.629213483146067| 6.771535580524344|              23.0| 5.704119850187266|4.5767790262172285|3.9737827715355807| 4.868913857677903| 6.681647940074907| 6.865168539325842|\n",
      "|  2003|  19.1123595505618|3.9138576779026217|6.6254681647940075|22.677902621722847| 5.355805243445693|  5.02621722846442|3.5580524344569286| 4.561797752808989| 6.295880149812734| 6.093632958801498|\n",
      "+------+------------------+------------------+------------------+------------------+------------------+------------------+------------------+------------------+------------------+------------------+\n",
      "\n"
     ]
    }
   ],
   "source": [
    "# Calculate the mean grouped by seasons\n",
    "avg_by_season = df.groupby('season').agg({var: 'avg' for var in num_vars})\n",
    "avg_by_season.show()"
   ]
  },
  {
   "cell_type": "code",
   "execution_count": 8,
   "id": "806b32af-21ec-4fa9-ba06-32caebf8da0d",
   "metadata": {},
   "outputs": [
    {
     "name": "stdout",
     "output_type": "stream",
     "text": [
      "+------+------------------+------------------+------------------+------------------+------------------+-----------------+------------------+------------------+-----------------+-----------------+\n",
      "|season|    stddev(AFinal)|       stddev(AQ3)|       stddev(HQ2)|    stddev(HFinal)|       stddev(AQ4)|      stddev(HQ1)|       stddev(AQ1)|       stddev(HQ3)|      stddev(HQ4)|      stddev(AQ2)|\n",
      "+------+------------------+------------------+------------------+------------------+------------------+-----------------+------------------+------------------+-----------------+-----------------+\n",
      "|  2012| 10.36700586582552| 4.627771103085967| 5.379925180001318| 10.55991939940039| 5.338234491542525|4.504654209720631| 4.754293429927693|4.5427794268808634|5.675672459168211|5.452819233053018|\n",
      "|  2014| 9.780605611153137|5.0598373811825486|  6.11381680118567|10.870878612249262| 5.243299106476734|4.821247898934106| 4.893745832711619|5.1845336805684195|5.329216822540802|  4.7692229255708|\n",
      "|  2013| 9.680199379770167| 4.904718570534499|5.7268535584351365| 10.58262339863043| 5.417878885591202|4.791372734641657| 4.345709436254425| 4.846193971819861|5.757240135093818| 5.44176146801227|\n",
      "|  2005| 9.926578482965532| 4.476236461106009| 5.704939767823902|   9.7729050470703|4.7538106704885426|4.586555977388297| 4.522553845314749|4.4890424760057765|5.173547502408778|4.947945074202327|\n",
      "|  2002|10.296996267265179| 4.639673397133565| 5.923281974814146|10.295065313095721| 5.282133291156591|4.549979955091247| 4.470296901951476| 4.716937582254145|5.384231307907844|5.167809984132809|\n",
      "|  2009|10.743599897211958| 4.714411580561023|  6.20824539087035|10.788110021925746| 5.571192453238175|4.731770694999498| 4.748728355708612| 4.723586501551448|5.176809630015899|5.285488237484943|\n",
      "|  2006|10.269064728873309| 4.531604541760319| 5.199966315853669|  9.87652501583644| 5.539983714789808|4.999138220909824|3.9860150898308047| 4.931715297479522|5.262574099581516|5.157435243914958|\n",
      "|  2004|10.162709953260375| 4.631821983480674|5.5871926384570765|10.441145325076208|  5.40018053571972| 4.73356170379658| 4.556668552293192| 4.675237626511822|5.155379093533283| 5.09463814050212|\n",
      "|  2011| 9.647689853944101| 4.628635101674375|  5.67388601014687| 10.52796247433743| 5.120721670930183|4.859633161895345| 4.455541350153862| 4.962527486794764|5.262520588826136|5.281869388483306|\n",
      "|  2008|10.279805968303394| 4.242863035654133| 5.825685416444339|10.414349464888803| 5.498863871022782|4.857120494509443|  4.20368590534378| 4.700949594817353|5.171299001362582|5.337746512653764|\n",
      "|  2007|10.572176505061785| 4.507997455378654|5.7806072841792915|10.500517935386789| 5.283564533569623|4.824287114503106| 4.324448318194743| 4.455721474617499|6.010300171103888|5.050110750969172|\n",
      "|  2010|10.278808785848629| 4.784959257230029|  5.47690423176769|10.230060378040095| 4.953021963614547|4.485220520794931|4.7274659314568845| 4.753475967990782|5.626848927510979|5.396722086229657|\n",
      "|  2003|10.211049082193233| 4.396264103746932| 5.367875350288822|10.105886698375684|   5.1486177800099|4.681918699050007| 4.320718658575632| 4.719870942975117|5.321832415273767|5.440954131838853|\n",
      "+------+------------------+------------------+------------------+------------------+------------------+-----------------+------------------+------------------+-----------------+-----------------+\n",
      "\n"
     ]
    }
   ],
   "source": [
    "# Calculate the standard deviation grouped by seasons\n",
    "std_by_season = df.groupby('season').agg({var: 'std' for var in num_vars})\n",
    "std_by_season.show()"
   ]
  },
  {
   "cell_type": "markdown",
   "id": "16f7c73f-15cd-418a-b05a-c41be64edae5",
   "metadata": {},
   "source": [
    "## Data Visualization"
   ]
  },
  {
   "cell_type": "markdown",
   "id": "30486944-fdae-45cf-813f-d77f6fb02f0a",
   "metadata": {},
   "source": [
    "To visualize the data, we need to convert the Spark SQL DataFrame into a pandas DataFrame."
   ]
  },
  {
   "cell_type": "code",
   "execution_count": 9,
   "id": "0703ef31-6268-4879-b8f3-f3e05ef4a9ad",
   "metadata": {},
   "outputs": [
    {
     "data": {
      "text/html": [
       "<div>\n",
       "<style scoped>\n",
       "    .dataframe tbody tr th:only-of-type {\n",
       "        vertical-align: middle;\n",
       "    }\n",
       "\n",
       "    .dataframe tbody tr th {\n",
       "        vertical-align: top;\n",
       "    }\n",
       "\n",
       "    .dataframe thead th {\n",
       "        text-align: right;\n",
       "    }\n",
       "</style>\n",
       "<table border=\"1\" class=\"dataframe\">\n",
       "  <thead>\n",
       "    <tr style=\"text-align: right;\">\n",
       "      <th></th>\n",
       "      <th>season</th>\n",
       "      <th>avg(AFinal)</th>\n",
       "      <th>avg(AQ3)</th>\n",
       "      <th>avg(HQ2)</th>\n",
       "      <th>avg(HFinal)</th>\n",
       "      <th>avg(AQ4)</th>\n",
       "      <th>avg(HQ1)</th>\n",
       "      <th>avg(AQ1)</th>\n",
       "      <th>avg(HQ3)</th>\n",
       "      <th>avg(HQ4)</th>\n",
       "      <th>avg(AQ2)</th>\n",
       "    </tr>\n",
       "  </thead>\n",
       "  <tbody>\n",
       "    <tr>\n",
       "      <th>0</th>\n",
       "      <td>2012</td>\n",
       "      <td>21.655431</td>\n",
       "      <td>4.509363</td>\n",
       "      <td>7.003745</td>\n",
       "      <td>24.119850</td>\n",
       "      <td>6.235955</td>\n",
       "      <td>4.928839</td>\n",
       "      <td>4.468165</td>\n",
       "      <td>5.217228</td>\n",
       "      <td>6.823970</td>\n",
       "      <td>6.273408</td>\n",
       "    </tr>\n",
       "    <tr>\n",
       "      <th>1</th>\n",
       "      <td>2014</td>\n",
       "      <td>21.295880</td>\n",
       "      <td>4.734082</td>\n",
       "      <td>7.164794</td>\n",
       "      <td>23.973783</td>\n",
       "      <td>5.876404</td>\n",
       "      <td>4.913858</td>\n",
       "      <td>4.284644</td>\n",
       "      <td>5.397004</td>\n",
       "      <td>6.374532</td>\n",
       "      <td>6.322097</td>\n",
       "    </tr>\n",
       "    <tr>\n",
       "      <th>2</th>\n",
       "      <td>2013</td>\n",
       "      <td>21.977528</td>\n",
       "      <td>5.011236</td>\n",
       "      <td>7.445693</td>\n",
       "      <td>24.891386</td>\n",
       "      <td>6.183521</td>\n",
       "      <td>5.112360</td>\n",
       "      <td>4.044944</td>\n",
       "      <td>5.258427</td>\n",
       "      <td>6.932584</td>\n",
       "      <td>6.670412</td>\n",
       "    </tr>\n",
       "    <tr>\n",
       "      <th>3</th>\n",
       "      <td>2005</td>\n",
       "      <td>18.786517</td>\n",
       "      <td>4.029963</td>\n",
       "      <td>7.426966</td>\n",
       "      <td>22.314607</td>\n",
       "      <td>5.191011</td>\n",
       "      <td>4.393258</td>\n",
       "      <td>3.887640</td>\n",
       "      <td>4.677903</td>\n",
       "      <td>5.737828</td>\n",
       "      <td>5.543071</td>\n",
       "    </tr>\n",
       "    <tr>\n",
       "      <th>4</th>\n",
       "      <td>2002</td>\n",
       "      <td>20.640449</td>\n",
       "      <td>4.449438</td>\n",
       "      <td>7.411985</td>\n",
       "      <td>23.018727</td>\n",
       "      <td>5.928839</td>\n",
       "      <td>4.307116</td>\n",
       "      <td>4.037453</td>\n",
       "      <td>4.715356</td>\n",
       "      <td>6.426966</td>\n",
       "      <td>6.022472</td>\n",
       "    </tr>\n",
       "  </tbody>\n",
       "</table>\n",
       "</div>"
      ],
      "text/plain": [
       "  season  avg(AFinal)  avg(AQ3)  avg(HQ2)  avg(HFinal)  avg(AQ4)  avg(HQ1)  \\\n",
       "0   2012    21.655431  4.509363  7.003745    24.119850  6.235955  4.928839   \n",
       "1   2014    21.295880  4.734082  7.164794    23.973783  5.876404  4.913858   \n",
       "2   2013    21.977528  5.011236  7.445693    24.891386  6.183521  5.112360   \n",
       "3   2005    18.786517  4.029963  7.426966    22.314607  5.191011  4.393258   \n",
       "4   2002    20.640449  4.449438  7.411985    23.018727  5.928839  4.307116   \n",
       "\n",
       "   avg(AQ1)  avg(HQ3)  avg(HQ4)  avg(AQ2)  \n",
       "0  4.468165  5.217228  6.823970  6.273408  \n",
       "1  4.284644  5.397004  6.374532  6.322097  \n",
       "2  4.044944  5.258427  6.932584  6.670412  \n",
       "3  3.887640  4.677903  5.737828  5.543071  \n",
       "4  4.037453  4.715356  6.426966  6.022472  "
      ]
     },
     "execution_count": 9,
     "metadata": {},
     "output_type": "execute_result"
    }
   ],
   "source": [
    "# Convert the Pyspark.SQL DataFrame to a Pandas DataFrame\n",
    "avg_by_season_df = avg_by_season.toPandas()\n",
    "avg_by_season_df.head()"
   ]
  },
  {
   "cell_type": "code",
   "execution_count": 10,
   "id": "d5cdd32b-8387-41bc-81ce-3ec52b3f1fea",
   "metadata": {},
   "outputs": [
    {
     "data": {
      "text/html": [
       "<div>\n",
       "<style scoped>\n",
       "    .dataframe tbody tr th:only-of-type {\n",
       "        vertical-align: middle;\n",
       "    }\n",
       "\n",
       "    .dataframe tbody tr th {\n",
       "        vertical-align: top;\n",
       "    }\n",
       "\n",
       "    .dataframe thead th {\n",
       "        text-align: right;\n",
       "    }\n",
       "</style>\n",
       "<table border=\"1\" class=\"dataframe\">\n",
       "  <thead>\n",
       "    <tr style=\"text-align: right;\">\n",
       "      <th></th>\n",
       "      <th>AQ1</th>\n",
       "      <th>AQ2</th>\n",
       "      <th>AQ3</th>\n",
       "      <th>AQ4</th>\n",
       "      <th>HQ1</th>\n",
       "      <th>HQ2</th>\n",
       "      <th>HQ3</th>\n",
       "      <th>HQ4</th>\n",
       "    </tr>\n",
       "    <tr>\n",
       "      <th>season</th>\n",
       "      <th></th>\n",
       "      <th></th>\n",
       "      <th></th>\n",
       "      <th></th>\n",
       "      <th></th>\n",
       "      <th></th>\n",
       "      <th></th>\n",
       "      <th></th>\n",
       "    </tr>\n",
       "  </thead>\n",
       "  <tbody>\n",
       "    <tr>\n",
       "      <th>2002</th>\n",
       "      <td>4.037453</td>\n",
       "      <td>6.022472</td>\n",
       "      <td>4.449438</td>\n",
       "      <td>5.928839</td>\n",
       "      <td>4.307116</td>\n",
       "      <td>7.411985</td>\n",
       "      <td>4.715356</td>\n",
       "      <td>6.426966</td>\n",
       "    </tr>\n",
       "    <tr>\n",
       "      <th>2003</th>\n",
       "      <td>3.558052</td>\n",
       "      <td>6.093633</td>\n",
       "      <td>3.913858</td>\n",
       "      <td>5.355805</td>\n",
       "      <td>5.026217</td>\n",
       "      <td>6.625468</td>\n",
       "      <td>4.561798</td>\n",
       "      <td>6.295880</td>\n",
       "    </tr>\n",
       "    <tr>\n",
       "      <th>2004</th>\n",
       "      <td>3.913858</td>\n",
       "      <td>6.265918</td>\n",
       "      <td>4.153558</td>\n",
       "      <td>5.797753</td>\n",
       "      <td>4.943820</td>\n",
       "      <td>7.071161</td>\n",
       "      <td>4.250936</td>\n",
       "      <td>6.561798</td>\n",
       "    </tr>\n",
       "    <tr>\n",
       "      <th>2005</th>\n",
       "      <td>3.887640</td>\n",
       "      <td>5.543071</td>\n",
       "      <td>4.029963</td>\n",
       "      <td>5.191011</td>\n",
       "      <td>4.393258</td>\n",
       "      <td>7.426966</td>\n",
       "      <td>4.677903</td>\n",
       "      <td>5.737828</td>\n",
       "    </tr>\n",
       "    <tr>\n",
       "      <th>2006</th>\n",
       "      <td>3.629213</td>\n",
       "      <td>6.179775</td>\n",
       "      <td>4.303371</td>\n",
       "      <td>6.063670</td>\n",
       "      <td>4.606742</td>\n",
       "      <td>6.041199</td>\n",
       "      <td>4.565543</td>\n",
       "      <td>5.932584</td>\n",
       "    </tr>\n",
       "  </tbody>\n",
       "</table>\n",
       "</div>"
      ],
      "text/plain": [
       "             AQ1       AQ2       AQ3       AQ4       HQ1       HQ2       HQ3  \\\n",
       "season                                                                         \n",
       "2002    4.037453  6.022472  4.449438  5.928839  4.307116  7.411985  4.715356   \n",
       "2003    3.558052  6.093633  3.913858  5.355805  5.026217  6.625468  4.561798   \n",
       "2004    3.913858  6.265918  4.153558  5.797753  4.943820  7.071161  4.250936   \n",
       "2005    3.887640  5.543071  4.029963  5.191011  4.393258  7.426966  4.677903   \n",
       "2006    3.629213  6.179775  4.303371  6.063670  4.606742  6.041199  4.565543   \n",
       "\n",
       "             HQ4  \n",
       "season            \n",
       "2002    6.426966  \n",
       "2003    6.295880  \n",
       "2004    6.561798  \n",
       "2005    5.737828  \n",
       "2006    5.932584  "
      ]
     },
     "execution_count": 10,
     "metadata": {},
     "output_type": "execute_result"
    }
   ],
   "source": [
    "# Change the column names\n",
    "avg_by_season_df.columns = [col.replace(\"avg(\", \"\").replace(\")\", \"\")\n",
    "                            for col in avg_by_season_df.columns]\n",
    "# Set the season as the index\n",
    "avg_by_season_df.sort_values('season', inplace=True)\n",
    "avg_by_season_df.set_index('season', inplace=True)\n",
    "# Select the columns with interest\n",
    "quarter_avg_by_season_df = avg_by_season_df[quarter_vars]\n",
    "quarter_avg_by_season_df.head()"
   ]
  },
  {
   "cell_type": "code",
   "execution_count": 11,
   "id": "488accbf-8c89-48c4-90e7-71996f6748db",
   "metadata": {},
   "outputs": [
    {
     "data": {
      "image/png": "[encoded data removed]",
      "text/plain": [
       "<Figure size 576x432 with 1 Axes>"
      ]
     },
     "metadata": {
      "needs_background": "light"
     },
     "output_type": "display_data"
    }
   ],
   "source": [
    "# Plot the quarter variables\n",
    "fig, ax = plt.subplots(figsize=(8, 6))\n",
    "quarter_avg_by_season_df.plot(ax=ax)\n",
    "ax.set_title(\"Average Performance by Season\")\n",
    "plt.show()"
   ]
  }
 ],
 "metadata": {
  "kernelspec": {
   "display_name": "Python 3 (ipykernel)",
   "language": "python",
   "name": "python3"
  },
  "language_info": {
   "codemirror_mode": {
    "name": "ipython",
    "version": 3
   },
   "file_extension": ".py",
   "mimetype": "text/x-python",
   "name": "python",
   "nbconvert_exporter": "python",
   "pygments_lexer": "ipython3",
   "version": "3.9.12"
  }
 },
 "nbformat": 4,
 "nbformat_minor": 5
}
